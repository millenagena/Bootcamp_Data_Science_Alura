{
 "cells": [
  {
   "cell_type": "code",
   "execution_count": 1,
   "source": [
    "import pandas as pd\r\n",
    "import seaborn as sns\r\n",
    "import matplotlib.pyplot as plt"
   ],
   "outputs": [],
   "metadata": {}
  },
  {
   "cell_type": "markdown",
   "source": [
    "## Importando os dados"
   ],
   "metadata": {}
  },
  {
   "cell_type": "code",
   "execution_count": 2,
   "source": [
    "dados_2019 = pd.read_csv('./dados/obitos-2019.csv')\r\n",
    "dados_2019.sample(5)"
   ],
   "outputs": [
    {
     "output_type": "execute_result",
     "data": {
      "text/plain": [
       "      uf                 tipo_doenca            local_obito faixa_etaria sexo  \\\n",
       "2060  MT  INSUFICIENCIA_RESPIRATORIA               IGNORADO      20 - 29    M   \n",
       "539   PB                      OUTRAS  OUTROS_SERVICOS_SAUDE          < 9    I   \n",
       "6826  SC                      OUTRAS               HOSPITAL      60 - 69    F   \n",
       "7864  PI                  SEPTICEMIA              DOMICILIO      70 - 79    F   \n",
       "4091  PB                   PNEUMONIA               HOSPITAL      40 - 49    M   \n",
       "\n",
       "      total  \n",
       "2060      1  \n",
       "539       5  \n",
       "6826   1261  \n",
       "7864      9  \n",
       "4091     63  "
      ],
      "text/html": [
       "<div>\n",
       "<style scoped>\n",
       "    .dataframe tbody tr th:only-of-type {\n",
       "        vertical-align: middle;\n",
       "    }\n",
       "\n",
       "    .dataframe tbody tr th {\n",
       "        vertical-align: top;\n",
       "    }\n",
       "\n",
       "    .dataframe thead th {\n",
       "        text-align: right;\n",
       "    }\n",
       "</style>\n",
       "<table border=\"1\" class=\"dataframe\">\n",
       "  <thead>\n",
       "    <tr style=\"text-align: right;\">\n",
       "      <th></th>\n",
       "      <th>uf</th>\n",
       "      <th>tipo_doenca</th>\n",
       "      <th>local_obito</th>\n",
       "      <th>faixa_etaria</th>\n",
       "      <th>sexo</th>\n",
       "      <th>total</th>\n",
       "    </tr>\n",
       "  </thead>\n",
       "  <tbody>\n",
       "    <tr>\n",
       "      <th>2060</th>\n",
       "      <td>MT</td>\n",
       "      <td>INSUFICIENCIA_RESPIRATORIA</td>\n",
       "      <td>IGNORADO</td>\n",
       "      <td>20 - 29</td>\n",
       "      <td>M</td>\n",
       "      <td>1</td>\n",
       "    </tr>\n",
       "    <tr>\n",
       "      <th>539</th>\n",
       "      <td>PB</td>\n",
       "      <td>OUTRAS</td>\n",
       "      <td>OUTROS_SERVICOS_SAUDE</td>\n",
       "      <td>&lt; 9</td>\n",
       "      <td>I</td>\n",
       "      <td>5</td>\n",
       "    </tr>\n",
       "    <tr>\n",
       "      <th>6826</th>\n",
       "      <td>SC</td>\n",
       "      <td>OUTRAS</td>\n",
       "      <td>HOSPITAL</td>\n",
       "      <td>60 - 69</td>\n",
       "      <td>F</td>\n",
       "      <td>1261</td>\n",
       "    </tr>\n",
       "    <tr>\n",
       "      <th>7864</th>\n",
       "      <td>PI</td>\n",
       "      <td>SEPTICEMIA</td>\n",
       "      <td>DOMICILIO</td>\n",
       "      <td>70 - 79</td>\n",
       "      <td>F</td>\n",
       "      <td>9</td>\n",
       "    </tr>\n",
       "    <tr>\n",
       "      <th>4091</th>\n",
       "      <td>PB</td>\n",
       "      <td>PNEUMONIA</td>\n",
       "      <td>HOSPITAL</td>\n",
       "      <td>40 - 49</td>\n",
       "      <td>M</td>\n",
       "      <td>63</td>\n",
       "    </tr>\n",
       "  </tbody>\n",
       "</table>\n",
       "</div>"
      ]
     },
     "metadata": {},
     "execution_count": 2
    }
   ],
   "metadata": {}
  },
  {
   "cell_type": "code",
   "execution_count": 3,
   "source": [
    "dados_2020 = pd.read_csv('./dados/obitos-2020.csv')\r\n",
    "dados_2020.sample(5)"
   ],
   "outputs": [
    {
     "output_type": "execute_result",
     "data": {
      "text/plain": [
       "       uf                 tipo_doenca            local_obito faixa_etaria  \\\n",
       "12975  SP  INSUFICIENCIA_RESPIRATORIA               IGNORADO      90 - 99   \n",
       "9850   SC                  SEPTICEMIA                  OUTRO      70 - 79   \n",
       "13218  CE                  SEPTICEMIA              DOMICILIO        > 100   \n",
       "14283  PE                      OUTRAS  OUTROS_SERVICOS_SAUDE          N/I   \n",
       "367    MG                      OUTRAS  OUTROS_SERVICOS_SAUDE          < 9   \n",
       "\n",
       "      sexo  total  \n",
       "12975    M      3  \n",
       "9850     M      1  \n",
       "13218    M      5  \n",
       "14283    F      1  \n",
       "367      F     13  "
      ],
      "text/html": [
       "<div>\n",
       "<style scoped>\n",
       "    .dataframe tbody tr th:only-of-type {\n",
       "        vertical-align: middle;\n",
       "    }\n",
       "\n",
       "    .dataframe tbody tr th {\n",
       "        vertical-align: top;\n",
       "    }\n",
       "\n",
       "    .dataframe thead th {\n",
       "        text-align: right;\n",
       "    }\n",
       "</style>\n",
       "<table border=\"1\" class=\"dataframe\">\n",
       "  <thead>\n",
       "    <tr style=\"text-align: right;\">\n",
       "      <th></th>\n",
       "      <th>uf</th>\n",
       "      <th>tipo_doenca</th>\n",
       "      <th>local_obito</th>\n",
       "      <th>faixa_etaria</th>\n",
       "      <th>sexo</th>\n",
       "      <th>total</th>\n",
       "    </tr>\n",
       "  </thead>\n",
       "  <tbody>\n",
       "    <tr>\n",
       "      <th>12975</th>\n",
       "      <td>SP</td>\n",
       "      <td>INSUFICIENCIA_RESPIRATORIA</td>\n",
       "      <td>IGNORADO</td>\n",
       "      <td>90 - 99</td>\n",
       "      <td>M</td>\n",
       "      <td>3</td>\n",
       "    </tr>\n",
       "    <tr>\n",
       "      <th>9850</th>\n",
       "      <td>SC</td>\n",
       "      <td>SEPTICEMIA</td>\n",
       "      <td>OUTRO</td>\n",
       "      <td>70 - 79</td>\n",
       "      <td>M</td>\n",
       "      <td>1</td>\n",
       "    </tr>\n",
       "    <tr>\n",
       "      <th>13218</th>\n",
       "      <td>CE</td>\n",
       "      <td>SEPTICEMIA</td>\n",
       "      <td>DOMICILIO</td>\n",
       "      <td>&gt; 100</td>\n",
       "      <td>M</td>\n",
       "      <td>5</td>\n",
       "    </tr>\n",
       "    <tr>\n",
       "      <th>14283</th>\n",
       "      <td>PE</td>\n",
       "      <td>OUTRAS</td>\n",
       "      <td>OUTROS_SERVICOS_SAUDE</td>\n",
       "      <td>N/I</td>\n",
       "      <td>F</td>\n",
       "      <td>1</td>\n",
       "    </tr>\n",
       "    <tr>\n",
       "      <th>367</th>\n",
       "      <td>MG</td>\n",
       "      <td>OUTRAS</td>\n",
       "      <td>OUTROS_SERVICOS_SAUDE</td>\n",
       "      <td>&lt; 9</td>\n",
       "      <td>F</td>\n",
       "      <td>13</td>\n",
       "    </tr>\n",
       "  </tbody>\n",
       "</table>\n",
       "</div>"
      ]
     },
     "metadata": {},
     "execution_count": 3
    }
   ],
   "metadata": {}
  },
  {
   "cell_type": "markdown",
   "source": [
    "## Explorando os dados"
   ],
   "metadata": {}
  },
  {
   "cell_type": "markdown",
   "source": [
    "Verificando o tamanho dos dados"
   ],
   "metadata": {}
  },
  {
   "cell_type": "code",
   "execution_count": 4,
   "source": [
    "print('2019', dados_2019.shape)\r\n",
    "print('2020', dados_2020.shape)"
   ],
   "outputs": [
    {
     "output_type": "stream",
     "name": "stdout",
     "text": [
      "2019 (12339, 6)\n",
      "2020 (14666, 6)\n"
     ]
    }
   ],
   "metadata": {}
  },
  {
   "cell_type": "markdown",
   "source": [
    "Analisando a quantidade de estados"
   ],
   "metadata": {}
  },
  {
   "cell_type": "code",
   "execution_count": 5,
   "source": [
    "len(dados_2019.uf.unique())"
   ],
   "outputs": [
    {
     "output_type": "execute_result",
     "data": {
      "text/plain": [
       "27"
      ]
     },
     "metadata": {},
     "execution_count": 5
    }
   ],
   "metadata": {}
  },
  {
   "cell_type": "code",
   "execution_count": 6,
   "source": [
    "len(dados_2020.uf.unique())"
   ],
   "outputs": [
    {
     "output_type": "execute_result",
     "data": {
      "text/plain": [
       "27"
      ]
     },
     "metadata": {},
     "execution_count": 6
    }
   ],
   "metadata": {}
  },
  {
   "cell_type": "markdown",
   "source": [
    "Verificando os tipos de doença"
   ],
   "metadata": {}
  },
  {
   "cell_type": "code",
   "execution_count": 7,
   "source": [
    "print('2019: ')\r\n",
    "print(sorted(dados_2019.tipo_doenca.unique()))\r\n",
    "\r\n",
    "print('\\n2020: ')\r\n",
    "print(sorted(dados_2020.tipo_doenca.unique()))"
   ],
   "outputs": [
    {
     "output_type": "stream",
     "name": "stdout",
     "text": [
      "2019: \n",
      "['COVID', 'INDETERMINADA', 'INSUFICIENCIA_RESPIRATORIA', 'OUTRAS', 'PNEUMONIA', 'SEPTICEMIA', 'SRAG']\n",
      "\n",
      "2020: \n",
      "['COVID', 'INDETERMINADA', 'INSUFICIENCIA_RESPIRATORIA', 'OUTRAS', 'PNEUMONIA', 'SEPTICEMIA', 'SRAG']\n"
     ]
    }
   ],
   "metadata": {}
  },
  {
   "cell_type": "markdown",
   "source": [
    "Analisando a quantidade de vezes que cada uma das doenças aparecem nas nossas bases de dados"
   ],
   "metadata": {}
  },
  {
   "cell_type": "code",
   "execution_count": 8,
   "source": [
    "print('2019')\r\n",
    "dados_2019.tipo_doenca.value_counts()"
   ],
   "outputs": [
    {
     "output_type": "stream",
     "name": "stdout",
     "text": [
      "2019\n"
     ]
    },
    {
     "output_type": "execute_result",
     "data": {
      "text/plain": [
       "OUTRAS                        3834\n",
       "PNEUMONIA                     2351\n",
       "INSUFICIENCIA_RESPIRATORIA    2317\n",
       "SEPTICEMIA                    2058\n",
       "INDETERMINADA                 1297\n",
       "SRAG                           481\n",
       "COVID                            1\n",
       "Name: tipo_doenca, dtype: int64"
      ]
     },
     "metadata": {},
     "execution_count": 8
    }
   ],
   "metadata": {}
  },
  {
   "cell_type": "code",
   "execution_count": 9,
   "source": [
    "print('2020')\r\n",
    "dados_2020.tipo_doenca.value_counts()"
   ],
   "outputs": [
    {
     "output_type": "stream",
     "name": "stdout",
     "text": [
      "2020\n"
     ]
    },
    {
     "output_type": "execute_result",
     "data": {
      "text/plain": [
       "OUTRAS                        3739\n",
       "INSUFICIENCIA_RESPIRATORIA    2303\n",
       "PNEUMONIA                     2194\n",
       "COVID                         2063\n",
       "SEPTICEMIA                    1993\n",
       "INDETERMINADA                 1307\n",
       "SRAG                          1067\n",
       "Name: tipo_doenca, dtype: int64"
      ]
     },
     "metadata": {},
     "execution_count": 9
    }
   ],
   "metadata": {}
  },
  {
   "cell_type": "markdown",
   "source": [
    "Agora, vamos visualizar a quantidade de óbitos por cada doença"
   ],
   "metadata": {}
  },
  {
   "cell_type": "code",
   "execution_count": 10,
   "source": [
    "dados_2019.info()"
   ],
   "outputs": [
    {
     "output_type": "stream",
     "name": "stdout",
     "text": [
      "<class 'pandas.core.frame.DataFrame'>\n",
      "RangeIndex: 12339 entries, 0 to 12338\n",
      "Data columns (total 6 columns):\n",
      " #   Column        Non-Null Count  Dtype \n",
      "---  ------        --------------  ----- \n",
      " 0   uf            12339 non-null  object\n",
      " 1   tipo_doenca   12339 non-null  object\n",
      " 2   local_obito   12339 non-null  object\n",
      " 3   faixa_etaria  12339 non-null  object\n",
      " 4   sexo          12337 non-null  object\n",
      " 5   total         12339 non-null  int64 \n",
      "dtypes: int64(1), object(5)\n",
      "memory usage: 578.5+ KB\n"
     ]
    }
   ],
   "metadata": {}
  },
  {
   "cell_type": "markdown",
   "source": [
    "Temos apenas uma coluna numérica, a coluna total"
   ],
   "metadata": {}
  },
  {
   "cell_type": "code",
   "execution_count": 11,
   "source": [
    "print('2019')\r\n",
    "total_obitos_2019 = dados_2019.groupby('tipo_doenca').sum()\r\n",
    "print(total_obitos_2019)\r\n",
    "\r\n",
    "print('\\n2020')\r\n",
    "total_obitos_2020 = dados_2020.groupby('tipo_doenca').sum()\r\n",
    "print(total_obitos_2020)"
   ],
   "outputs": [
    {
     "output_type": "stream",
     "name": "stdout",
     "text": [
      "2019\n",
      "                             total\n",
      "tipo_doenca                       \n",
      "COVID                            1\n",
      "INDETERMINADA                 6977\n",
      "INSUFICIENCIA_RESPIRATORIA  100361\n",
      "OUTRAS                      658891\n",
      "PNEUMONIA                   225933\n",
      "SEPTICEMIA                  175104\n",
      "SRAG                          1497\n",
      "\n",
      "2020\n",
      "                             total\n",
      "tipo_doenca                       \n",
      "COVID                       177299\n",
      "INDETERMINADA                 9063\n",
      "INSUFICIENCIA_RESPIRATORIA   93304\n",
      "OUTRAS                      647807\n",
      "PNEUMONIA                   171938\n",
      "SEPTICEMIA                  153033\n",
      "SRAG                         15715\n"
     ]
    }
   ],
   "metadata": {}
  },
  {
   "cell_type": "markdown",
   "source": [
    "Quanto tivemos de acréscimo (ou decréscimo) dessas doenças respiratórias de um ano para outro?"
   ],
   "metadata": {}
  },
  {
   "cell_type": "code",
   "execution_count": 12,
   "source": [
    "proporcao = total_obitos_2020/total_obitos_2019\r\n",
    "proporcao"
   ],
   "outputs": [
    {
     "output_type": "execute_result",
     "data": {
      "text/plain": [
       "                                    total\n",
       "tipo_doenca                              \n",
       "COVID                       177299.000000\n",
       "INDETERMINADA                    1.298982\n",
       "INSUFICIENCIA_RESPIRATORIA       0.929684\n",
       "OUTRAS                           0.983178\n",
       "PNEUMONIA                        0.761013\n",
       "SEPTICEMIA                       0.873955\n",
       "SRAG                            10.497662"
      ],
      "text/html": [
       "<div>\n",
       "<style scoped>\n",
       "    .dataframe tbody tr th:only-of-type {\n",
       "        vertical-align: middle;\n",
       "    }\n",
       "\n",
       "    .dataframe tbody tr th {\n",
       "        vertical-align: top;\n",
       "    }\n",
       "\n",
       "    .dataframe thead th {\n",
       "        text-align: right;\n",
       "    }\n",
       "</style>\n",
       "<table border=\"1\" class=\"dataframe\">\n",
       "  <thead>\n",
       "    <tr style=\"text-align: right;\">\n",
       "      <th></th>\n",
       "      <th>total</th>\n",
       "    </tr>\n",
       "    <tr>\n",
       "      <th>tipo_doenca</th>\n",
       "      <th></th>\n",
       "    </tr>\n",
       "  </thead>\n",
       "  <tbody>\n",
       "    <tr>\n",
       "      <th>COVID</th>\n",
       "      <td>177299.000000</td>\n",
       "    </tr>\n",
       "    <tr>\n",
       "      <th>INDETERMINADA</th>\n",
       "      <td>1.298982</td>\n",
       "    </tr>\n",
       "    <tr>\n",
       "      <th>INSUFICIENCIA_RESPIRATORIA</th>\n",
       "      <td>0.929684</td>\n",
       "    </tr>\n",
       "    <tr>\n",
       "      <th>OUTRAS</th>\n",
       "      <td>0.983178</td>\n",
       "    </tr>\n",
       "    <tr>\n",
       "      <th>PNEUMONIA</th>\n",
       "      <td>0.761013</td>\n",
       "    </tr>\n",
       "    <tr>\n",
       "      <th>SEPTICEMIA</th>\n",
       "      <td>0.873955</td>\n",
       "    </tr>\n",
       "    <tr>\n",
       "      <th>SRAG</th>\n",
       "      <td>10.497662</td>\n",
       "    </tr>\n",
       "  </tbody>\n",
       "</table>\n",
       "</div>"
      ]
     },
     "metadata": {},
     "execution_count": 12
    }
   ],
   "metadata": {}
  },
  {
   "cell_type": "markdown",
   "source": [
    "Podemos perceber que os óbitos por SRAG aumentou mais de 10 vezes de 2019 para 2020"
   ],
   "metadata": {}
  },
  {
   "cell_type": "markdown",
   "source": [
    "## Visualizando os dados"
   ],
   "metadata": {}
  },
  {
   "cell_type": "code",
   "execution_count": 13,
   "source": [
    "def grafico_comparativo(causa):\r\n",
    "\r\n",
    "    total_2019 = dados_2019.groupby('tipo_doenca').sum()\r\n",
    "    total_2020 = dados_2020.groupby('tipo_doenca').sum()\r\n",
    "    lista = [int(total_2019.loc[causa]), int(total_2020.loc[causa])]\r\n",
    "    dados = pd.DataFrame({'Total': lista, 'Ano': [2019, 2020]})\r\n",
    "\r\n",
    "    plt.figure(figsize = (8, 6))\r\n",
    "    sns.barplot(x = 'Ano', y = 'Total', data = dados)\r\n",
    "    plt.title(f'Óbitos por {causa}')\r\n",
    "    plt.show()\r\n",
    "\r\n",
    "    return dados\r\n",
    "    "
   ],
   "outputs": [],
   "metadata": {}
  },
  {
   "cell_type": "code",
   "execution_count": 14,
   "source": [
    "grafico_comparativo('INDETERMINADA')"
   ],
   "outputs": [
    {
     "output_type": "display_data",
     "data": {
      "text/plain": [
       "<Figure size 576x432 with 1 Axes>"
      ],
      "image/png": "[encoded data removed]"
     },
     "metadata": {
      "needs_background": "light"
     }
    },
    {
     "output_type": "execute_result",
     "data": {
      "text/plain": [
       "   Total   Ano\n",
       "0   6977  2019\n",
       "1   9063  2020"
      ],
      "text/html": [
       "<div>\n",
       "<style scoped>\n",
       "    .dataframe tbody tr th:only-of-type {\n",
       "        vertical-align: middle;\n",
       "    }\n",
       "\n",
       "    .dataframe tbody tr th {\n",
       "        vertical-align: top;\n",
       "    }\n",
       "\n",
       "    .dataframe thead th {\n",
       "        text-align: right;\n",
       "    }\n",
       "</style>\n",
       "<table border=\"1\" class=\"dataframe\">\n",
       "  <thead>\n",
       "    <tr style=\"text-align: right;\">\n",
       "      <th></th>\n",
       "      <th>Total</th>\n",
       "      <th>Ano</th>\n",
       "    </tr>\n",
       "  </thead>\n",
       "  <tbody>\n",
       "    <tr>\n",
       "      <th>0</th>\n",
       "      <td>6977</td>\n",
       "      <td>2019</td>\n",
       "    </tr>\n",
       "    <tr>\n",
       "      <th>1</th>\n",
       "      <td>9063</td>\n",
       "      <td>2020</td>\n",
       "    </tr>\n",
       "  </tbody>\n",
       "</table>\n",
       "</div>"
      ]
     },
     "metadata": {},
     "execution_count": 14
    }
   ],
   "metadata": {}
  },
  {
   "cell_type": "markdown",
   "source": [
    "## Criando uma função que mostra os óbitos por doença e por estado"
   ],
   "metadata": {}
  },
  {
   "cell_type": "code",
   "execution_count": 15,
   "source": [
    "def grafico_comparativo(causa = 'ALL', estado = 'BRASIL'):\r\n",
    "\r\n",
    "    if estado == 'BRASIL':\r\n",
    "        total_2019 = dados_2019.groupby('tipo_doenca').sum()\r\n",
    "        total_2020 = dados_2020.groupby('tipo_doenca').sum()\r\n",
    "        lista = [int(total_2019.loc[causa]), int(total_2020.loc[causa])]\r\n",
    "\r\n",
    "    else:\r\n",
    "        total_2019 = dados_2019.groupby(['uf', 'tipo_doenca']).sum()\r\n",
    "        total_2020 = dados_2020.groupby(['uf', 'tipo_doenca']).sum()\r\n",
    "        lista = [int(total_2019.loc[estado, causa]), int(total_2020.loc[estado, causa])]\r\n",
    "\r\n",
    "\r\n",
    "    dados = pd.DataFrame({'Total': lista, 'Ano': [2019, 2020]})\r\n",
    "\r\n",
    "    plt.figure(figsize = (8, 6))\r\n",
    "    sns.barplot(x = 'Ano', y = 'Total', data = dados)\r\n",
    "    plt.title(f'Óbitos por {causa} -> {estado}')\r\n",
    "    plt.show()\r\n",
    "\r\n",
    "    return dados"
   ],
   "outputs": [],
   "metadata": {}
  },
  {
   "cell_type": "code",
   "execution_count": 16,
   "source": [
    "def grafico_comparativo_2(estado = 'BRASIL'):\r\n",
    "\r\n",
    "    total_2019 = dados_2019.groupby(['uf', 'tipo_doenca']).sum()\r\n",
    "    total_2020 = dados_2020.groupby(['uf', 'tipo_doenca']).sum()\r\n",
    "    lista = [total_2019.loc[estado], total_2019.loc[estado]]\r\n",
    "\r\n",
    "    fig, (ax1, ax2)= plt.subplots(1, 2, figsize = (17, 8))\r\n",
    "    ax1.set_title(f'Óbitos por doença e por estado - {estado} - 2019')\r\n",
    "    ax2.set_title(f'Óbitos por doença e por estado - {estado} - 2020')\r\n",
    "    \r\n",
    "    sns.barplot(y = lista[0].index, x = lista[0].total, ax = ax1, orient = 'h')\r\n",
    "    sns.barplot(y = lista[1].index, x = lista[1].total, ax = ax2, orient = 'h')\r\n",
    "    ax2.set_ylabel('')\r\n",
    "    fig.tight_layout(pad=7.0)\r\n",
    "\r\n",
    "\r\n",
    "\r\n"
   ],
   "outputs": [],
   "metadata": {}
  },
  {
   "cell_type": "code",
   "execution_count": 17,
   "source": [
    "grafico_comparativo('SRAG', 'SP')"
   ],
   "outputs": [
    {
     "output_type": "display_data",
     "data": {
      "text/plain": [
       "<Figure size 576x432 with 1 Axes>"
      ],
      "image/png": "[encoded data removed]"
     },
     "metadata": {
      "needs_background": "light"
     }
    },
    {
     "output_type": "execute_result",
     "data": {
      "text/plain": [
       "   Total   Ano\n",
       "0    293  2019\n",
       "1   2317  2020"
      ],
      "text/html": [
       "<div>\n",
       "<style scoped>\n",
       "    .dataframe tbody tr th:only-of-type {\n",
       "        vertical-align: middle;\n",
       "    }\n",
       "\n",
       "    .dataframe tbody tr th {\n",
       "        vertical-align: top;\n",
       "    }\n",
       "\n",
       "    .dataframe thead th {\n",
       "        text-align: right;\n",
       "    }\n",
       "</style>\n",
       "<table border=\"1\" class=\"dataframe\">\n",
       "  <thead>\n",
       "    <tr style=\"text-align: right;\">\n",
       "      <th></th>\n",
       "      <th>Total</th>\n",
       "      <th>Ano</th>\n",
       "    </tr>\n",
       "  </thead>\n",
       "  <tbody>\n",
       "    <tr>\n",
       "      <th>0</th>\n",
       "      <td>293</td>\n",
       "      <td>2019</td>\n",
       "    </tr>\n",
       "    <tr>\n",
       "      <th>1</th>\n",
       "      <td>2317</td>\n",
       "      <td>2020</td>\n",
       "    </tr>\n",
       "  </tbody>\n",
       "</table>\n",
       "</div>"
      ]
     },
     "metadata": {},
     "execution_count": 17
    }
   ],
   "metadata": {}
  },
  {
   "cell_type": "code",
   "execution_count": 18,
   "source": [
    "grafico_comparativo_2('AM')"
   ],
   "outputs": [
    {
     "output_type": "display_data",
     "data": {
      "text/plain": [
       "<Figure size 1224x576 with 2 Axes>"
      ],
      "image/png": "[encoded data removed]"
     },
     "metadata": {
      "needs_background": "light"
     }
    }
   ],
   "metadata": {}
  },
  {
   "cell_type": "code",
   "execution_count": null,
   "source": [],
   "outputs": [],
   "metadata": {}
  },
  {
   "cell_type": "code",
   "execution_count": null,
   "source": [],
   "outputs": [],
   "metadata": {}
  },
  {
   "cell_type": "markdown",
   "source": [
    "## Desafios\r\n",
    "\r\n",
    "Desafio 01 - Acesse o portal da transparência e leia sobre como são feitas as classificações por tipo de óbito e como são obtidos os dados. \r\n",
    "\r\n",
    "Desafio 02 - Nesta aula o Thiago quer fazer uma contagem dos números de casos, mas os dados não parecem corretos. Identifique o problema antes de seguir para o próximo vídeo e ajude a corrigir\r\n",
    "\r\n",
    "Desafio 03 - Nesta análise trabalhamos apenas com a informação de óbito, agora queremos que você explore as outras informações da base de dados para enriquecer mais sua aplicação final. Veja o que descobre de interessante e compartilhe no Discord\r\n",
    "\r\n",
    "Desafio 04 - Que tal deixar a função que criamos para gerar os gráficos ainda melhor, acrescente um filtro para pode selecionar o estado que gostaria de visualizar\r\n",
    "\r\n",
    "Desafio 05 - Como você sabe neste curso vamos aprender como criar uma aplicação web para ciência de dados com o Streamlit, que é uma ferramenta de alto nível abstraindo muitas coisas. Entender, mesmo que superficialmente, como uma aplicação-web funciona é interessante para você conhecer o que está acontecendo por baixo dos panos do Streamlit, por isso queremos que você pesquise um pouco sobre como funciona o Web. Neste vídeo o Sérgio Lopes, CTO da Alura faz uma explicação geral de como as coisas acontecem em uma aplicação.\r\n",
    "\r\n",
    "Desafio 06 - A função que melhoramos no vídeo 2.3 da para ficar ainda melhor, agora queremos que você acrescente a opção de selecionar apenas o estado e visualizar os totais de óbitos.\r\n",
    "\r\n",
    "Desafio 07 - Nesta aula criamos nossa primeira aplicação com o Streamlit e nosso desafio é que você explore a documentação da ferramenta, entre nos códigos fontes (github) dos exemplos, explore os métodos e afins.\r\n",
    "\r\n",
    "Desafio 08 - Na aula passada pedimos para você explorar a documentação, agora queremos que dê uma olhada nos chamados comandos mágicos do streamlit, como funciona e compartilhe conosco as vantagens e desvantagens que você identificou. \r\n",
    "\r\n",
    "Desafio extra - Não deixe de ir reproduzindo o código que estamos desenvolvendo na aula para você exercitar e realizar os testes dessa nova ferramenta."
   ],
   "metadata": {}
  }
 ],
 "metadata": {
  "orig_nbformat": 4,
  "language_info": {
   "name": "python",
   "version": "3.8.6",
   "mimetype": "text/x-python",
   "codemirror_mode": {
    "name": "ipython",
    "version": 3
   },
   "pygments_lexer": "ipython3",
   "nbconvert_exporter": "python",
   "file_extension": ".py"
  },
  "kernelspec": {
   "name": "python3",
   "display_name": "Python 3.8.6 64-bit ('venv_streamlit': venv)"
  },
  "interpreter": {
   "hash": "a8f70e8c216e27a94356af7e389a52fc245afc8a7ae630296bc70ca9f7b6a521"
  }
 },
 "nbformat": 4,
 "nbformat_minor": 2
}